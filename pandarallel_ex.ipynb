{
 "cells": [
  {
   "cell_type": "code",
   "execution_count": 1,
   "id": "american-electron",
   "metadata": {},
   "outputs": [
    {
     "name": "stdout",
     "output_type": "stream",
     "text": [
      "INFO: Pandarallel will run on 12 workers.\n",
      "INFO: Pandarallel will use Memory file system to transfer data between the main process and workers.\n"
     ]
    }
   ],
   "source": [
    "import pandas as pd\n",
    "import requests\n",
    "\n",
    "from tqdm import tqdm\n",
    "tqdm.pandas()\n",
    "\n",
    "from pandarallel import pandarallel\n",
    "pandarallel.initialize(progress_bar=True)"
   ]
  },
  {
   "cell_type": "code",
   "execution_count": 2,
   "id": "flying-monaco",
   "metadata": {},
   "outputs": [],
   "source": [
    "df = pd.DataFrame(\n",
    "    [i for i in range(100)],\n",
    "    columns=[\"sample_column\"]\n",
    ")"
   ]
  },
  {
   "cell_type": "code",
   "execution_count": 3,
   "id": "unknown-burns",
   "metadata": {},
   "outputs": [
    {
     "name": "stderr",
     "output_type": "stream",
     "text": [
      "100%|██████████| 100/100 [00:30<00:00,  3.28it/s]\n"
     ]
    }
   ],
   "source": [
    "def function_to_apply(i):\n",
    "    r = requests.get(f'https://random-word-api.herokuapp.com/word').json()\n",
    "\n",
    "    return r[0]\n",
    "df[\"sample-word\"] = df.sample_column.progress_apply(function_to_apply)"
   ]
  },
  {
   "cell_type": "code",
   "execution_count": 5,
   "id": "normal-relaxation",
   "metadata": {},
   "outputs": [
    {
     "data": {
      "application/vnd.jupyter.widget-view+json": {
       "model_id": "d3e730a5d1c94e6bb49f7ff74fd6991f",
       "version_major": 2,
       "version_minor": 0
      },
      "text/plain": [
       "VBox(children=(HBox(children=(IntProgress(value=0, description='0.00%', max=9), Label(value='0 / 9'))), HBox(c…"
      ]
     },
     "metadata": {},
     "output_type": "display_data"
    }
   ],
   "source": [
    "df[\"sample-word\"] = df.sample_column.parallel_apply(function_to_apply)"
   ]
  },
  {
   "cell_type": "code",
   "execution_count": 6,
   "id": "collective-vietnamese",
   "metadata": {},
   "outputs": [],
   "source": [
    "import collections \n",
    "import multiprocessing\n"
   ]
  },
  {
   "cell_type": "code",
   "execution_count": 7,
   "id": "divided-radio",
   "metadata": {},
   "outputs": [],
   "source": [
    "Scientist = collections.namedtuple('Scientist', [   'name',   'born',])\n",
    "\n",
    "scientists = (Scientist(name='Ada Lovelace', born=1815),\n",
    "                    Scientist(name='Emmy Noether', born=1882),\n",
    "                    Scientist(name='Marie Curie', born=1867),\n",
    "                    Scientist(name='Tu Youyou', born=1930),\n",
    "                    Scientist(name='Ada Yonath', born=1939),\n",
    "                    Scientist(name='Vera Rubin', born=1928),\n",
    "                    Scientist(name='Sally Ride', born=1951),)"
   ]
  },
  {
   "cell_type": "code",
   "execution_count": 14,
   "id": "defensive-contact",
   "metadata": {},
   "outputs": [],
   "source": [
    "def process_item(item):\n",
    "     return {'name': item.name, 'age': 2200 - item.born   }\n"
   ]
  },
  {
   "cell_type": "code",
   "execution_count": 15,
   "id": "accessory-warrant",
   "metadata": {},
   "outputs": [],
   "source": [
    "pool = multiprocessing.Pool()\n",
    "result = pool.map(process_item, scientists)"
   ]
  },
  {
   "cell_type": "code",
   "execution_count": 16,
   "id": "steady-settlement",
   "metadata": {},
   "outputs": [
    {
     "name": "stdout",
     "output_type": "stream",
     "text": [
      "({'name': 'Ada Lovelace', 'age': 385}, {'name': 'Emmy Noether', 'age': 318}, {'name': 'Marie Curie', 'age': 333}, {'name': 'Tu Youyou', 'age': 270}, {'name': 'Ada Yonath', 'age': 261}, {'name': 'Vera Rubin', 'age': 272}, {'name': 'Sally Ride', 'age': 249})\n"
     ]
    }
   ],
   "source": [
    "print(tuple(result))"
   ]
  },
  {
   "cell_type": "code",
   "execution_count": 17,
   "id": "august-philippines",
   "metadata": {},
   "outputs": [
    {
     "name": "stderr",
     "output_type": "stream",
     "text": [
      "\r",
      "  0%|          | 0/100 [00:00<?, ?it/s]"
     ]
    },
    {
     "name": "stdout",
     "output_type": "stream",
     "text": [
      "INFO: Pandarallel will run on 12 workers.\n",
      "INFO: Pandarallel will use Memory file system to transfer data between the main process and workers.\n"
     ]
    },
    {
     "name": "stderr",
     "output_type": "stream",
     "text": [
      "100%|██████████| 100/100 [00:28<00:00,  3.45it/s]\n"
     ]
    },
    {
     "data": {
      "application/vnd.jupyter.widget-view+json": {
       "model_id": "ced25930ce26402b8a96bcadbe3c3d44",
       "version_major": 2,
       "version_minor": 0
      },
      "text/plain": [
       "VBox(children=(HBox(children=(IntProgress(value=0, description='0.00%', max=9), Label(value='0 / 9'))), HBox(c…"
      ]
     },
     "metadata": {},
     "output_type": "display_data"
    }
   ],
   "source": [
    "import pandas as pd\n",
    "import requests\n",
    "\n",
    "from tqdm import tqdm\n",
    "tqdm.pandas()\n",
    "\n",
    "from pandarallel import pandarallel\n",
    "pandarallel.initialize(progress_bar=True)\n",
    "df = pd.DataFrame(\n",
    "    [i for i in range(100)],\n",
    "    columns=[\"sample_column\"]\n",
    ")\n",
    "def function_to_apply(i):\n",
    "    r = requests.get(f'https://random-word-api.herokuapp.com/word').json()\n",
    "\n",
    "    return r[0]\n",
    "df[\"sample-word\"] = df.sample_column.progress_apply(function_to_apply)\n",
    "df[\"sample-word\"] = df.sample_column.parallel_apply(function_to_apply)"
   ]
  },
  {
   "cell_type": "code",
   "execution_count": null,
   "id": "bigger-stream",
   "metadata": {},
   "outputs": [],
   "source": []
  }
 ],
 "metadata": {
  "kernelspec": {
   "display_name": "Python 3",
   "language": "python",
   "name": "python3"
  },
  "language_info": {
   "codemirror_mode": {
    "name": "ipython",
    "version": 3
   },
   "file_extension": ".py",
   "mimetype": "text/x-python",
   "name": "python",
   "nbconvert_exporter": "python",
   "pygments_lexer": "ipython3",
   "version": "3.8.5"
  }
 },
 "nbformat": 4,
 "nbformat_minor": 5
}
